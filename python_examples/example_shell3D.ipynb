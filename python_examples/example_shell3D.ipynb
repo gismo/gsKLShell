{
 "cells": [
  {
   "cell_type": "markdown",
   "id": "b9eb9c66",
   "metadata": {},
   "source": [
    "\n",
    "# Python interface for thin shells\n",
    "```\n",
    "This file is part of the G+Smo library.\n",
    "\n",
    "This Source Code Form is subject to the terms of the Mozilla Public\n",
    "License, v. 2.0. If a copy of the MPL was not distributed with this\n",
    "file, You can obtain one at http://mozilla.org/MPL/2.0/.\n",
    "\n",
    "Author(s): H.M. Verhelst\n",
    "```\n",
    "## Prerequisites & Dependencies\n",
    "This example relies on the `pybind11` interface of G+Smo. This means that you need to have `pybind11` installed in python:\n",
    "```\n",
    "pip install pybind11\n",
    "```\n",
    "Furthermore, the Kirchhoff-Love shell library is used. Therefore, build G+Smo with the following settings.\n",
    "```\n",
    "cd <build directory>\n",
    "cmake . -DGISMO_PYBIND11=ON -DGISMO_KLSHELL=ON\n",
    "make pygismo\n",
    "```\n",
    "If CMake cannot find `pybind11`, run the following\n",
    "```\n",
    "exportpybind11_DIR=<path to pybind11>\n",
    "```\n",
    "You can find the paths to installed packages of python by calling\n",
    "```\n",
    "python -m site\n",
    "```\n",
    "Then find `pybind11` in on of these locations and give this ar the `<path to pybind11>`\n",
    "\n"
   ]
  },
  {
   "cell_type": "markdown",
   "id": "b77ce440",
   "metadata": {},
   "source": [
    "## Preamble"
   ]
  },
  {
   "cell_type": "code",
   "execution_count": null,
   "id": "89fb9852",
   "metadata": {},
   "outputs": [],
   "source": [
    "# Required for finding pygismo\n",
    "import os, sys\n",
    "# Obtain pygismo\n",
    "gismo_path=os.path.join(os.getcwd() , \"../../../\")\n",
    "print(\"G+Smo path:\",gismo_path,\"(change if needed).\")\n",
    "sys.path.append(gismo_path+\"build/lib\")\n",
    "\n",
    "# Import pygismo\n",
    "import pygismo as gs ## If this line gives an error, check your path or check if pygismo is compiled\n",
    "\n",
    "# Import other modules\n",
    "import numpy as np\n",
    "import scipy.sparse.linalg as la\n",
    "from matplotlib import cm\n",
    "import matplotlib.pyplot as plt\n",
    "from mpl_toolkits.mplot3d import Axes3D\n",
    "# for creating a responsive plot\n",
    "# %matplotlib widget\n",
    "%matplotlib inline\n",
    "\n",
    "import scipy.optimize as opt\n"
   ]
  },
  {
   "cell_type": "markdown",
   "id": "5aa448ee",
   "metadata": {},
   "source": [
    "## Initialization of geometry and material"
   ]
  },
  {
   "cell_type": "markdown",
   "id": "511ba04c",
   "metadata": {},
   "source": [
    "#### Make a geometry"
   ]
  },
  {
   "cell_type": "code",
   "execution_count": null,
   "id": "b7784ec0",
   "metadata": {},
   "outputs": [],
   "source": [
    "c1 = np.array([0.,0.,1.,1.])\n",
    "c2 = np.array([0.,0.,1.,1.])\n",
    "ku1 = gs.nurbs.gsKnotVector(c1,1)\n",
    "ku2 = gs.nurbs.gsKnotVector(c2,1)\n",
    "\n",
    "coefs = np.array([\n",
    "                    [0     ,0    ,0   ],\n",
    "                    [2     ,0    ,0   ],\n",
    "                    [0     ,2    ,0   ],\n",
    "                    [2     ,2    ,0   ],\n",
    "                        ])\n",
    "\n",
    "\n",
    "# Construct basis using knot vectors\n",
    "tbasis1 = gs.nurbs.gsTensorBSplineBasis2(ku1,ku2)\n",
    "tspline1 = gs.nurbs.gsTensorBSpline2(tbasis1,coefs)"
   ]
  },
  {
   "cell_type": "markdown",
   "id": "6cc61dd3",
   "metadata": {},
   "source": [
    "### Define the multipatch object and refine and elevate"
   ]
  },
  {
   "cell_type": "code",
   "execution_count": null,
   "id": "110ac414",
   "metadata": {},
   "outputs": [],
   "source": [
    "mp = gs.core.gsMultiPatch()\n",
    "mp.addPatch(tspline1)\n",
    "\n",
    "# elevate the degree (starts at 1)\n",
    "mp.degreeElevate()     #degree = 2\n",
    "# mp.degreeElevate()     #degree = 3\n",
    "mp.uniformRefine()     # 4 elements\n",
    "mp.uniformRefine()     # 16 elements\n",
    "mp.uniformRefine()     # 32 elements\n",
    "\n",
    "# multibasis\n",
    "mb = gs.core.gsMultiBasis(mp)\n",
    "\n",
    "# store the coefficients\n",
    "coefs = mp.patch(0).coefs()"
   ]
  },
  {
   "cell_type": "markdown",
   "id": "75879f20",
   "metadata": {},
   "source": [
    "### Define the shell characteristics"
   ]
  },
  {
   "cell_type": "code",
   "execution_count": null,
   "id": "a7fdce80",
   "metadata": {},
   "outputs": [],
   "source": [
    "# thickness\n",
    "t = gs.core.gsFunctionExpr(\"0.02\",3)\n",
    "# Young's modulus\n",
    "E = gs.core.gsFunctionExpr(\"10e6\",3)\n",
    "# Poisson's ratio\n",
    "nu = gs.core.gsFunctionExpr(\"0.3\",3)\n",
    "# Surface force\n",
    "f = gs.core.gsFunctionExpr(\"0\",\"0\",\"0\",3)\n",
    "# Point loads\n",
    "pload = gs.pde.gsPointLoads()\n",
    "pload.addLoad(np.array([0.5,0.5]),np.array([0,0,-1]),0,True)"
   ]
  },
  {
   "cell_type": "markdown",
   "id": "5b388809",
   "metadata": {},
   "source": [
    "### Define boundary conditions"
   ]
  },
  {
   "cell_type": "code",
   "execution_count": null,
   "id": "d5df6fbe",
   "metadata": {},
   "outputs": [],
   "source": [
    "bcs = gs.pde.gsBoundaryConditions();\n",
    "for corner in [gs.core.corner.northwest, \n",
    "             gs.core.corner.northeast, \n",
    "             gs.core.corner.southwest, \n",
    "             gs.core.corner.southeast]:\n",
    "    bcs.addCornerValue(corner,0.0,0,0,-1) # corner, value, patch, unknown, component\n",
    "        \n",
    "# assign the geometry to the boundary conditions\n",
    "bcs.setGeoMap(mp) "
   ]
  },
  {
   "cell_type": "markdown",
   "id": "eac20310",
   "metadata": {},
   "source": [
    "### Define material matrix and solver"
   ]
  },
  {
   "cell_type": "code",
   "execution_count": null,
   "id": "cc42a6ab",
   "metadata": {},
   "outputs": [],
   "source": [
    "mm = gs.klshell.gsMaterialMatrixLinear3(mp,t)\n",
    "mm.setYoungsModulus(E)\n",
    "mm.setPoissonsRatio(nu)\n",
    "\n",
    "assembler = gs.klshell.gsThinShellAssembler3(mp,mb,bcs,f,mm)\n",
    "assembler.setPointLoads(pload)"
   ]
  },
  {
   "cell_type": "markdown",
   "id": "b30fe13b",
   "metadata": {},
   "source": [
    "### Solve"
   ]
  },
  {
   "cell_type": "code",
   "execution_count": null,
   "id": "6912ff4b",
   "metadata": {},
   "outputs": [],
   "source": [
    "assembler.assemble()\n",
    "matrix = assembler.matrix()\n",
    "vector = assembler.rhs()\n",
    "solution = la.spsolve(matrix,vector[:,0])\n",
    "\n",
    "def Residual(resvec):\n",
    "        sol = assembler.constructSolution(resvec)\n",
    "        assembler.assembleVector(sol)\n",
    "        return assembler.rhs()\n",
    "\n",
    "def Jacobian(resvec):\n",
    "    sol = assembler.constructSolution(resvec)\n",
    "    assembler.assembleMatrix(sol)\n",
    "    return assembler.matrix()\n",
    "\n",
    "residual = np.linalg.norm(vector)\n",
    "residual0 = residual\n",
    "residualOld = residual\n",
    "update = solution\n",
    "resvec = Residual(solution)\n",
    "\n",
    "itmax = 100\n",
    "tol = 1e-6\n",
    "for it in range(0,itmax):\n",
    "    jacmat = Jacobian(solution)\n",
    "    update = la.spsolve(jacmat,resvec[:,0])\n",
    "    solution += update\n",
    "\n",
    "    resvec = Residual(solution)\n",
    "    residual = np.linalg.norm(resvec)\n",
    "\n",
    "    print(\"Iteration \",it,end=\"\")\n",
    "    print(\", residue %0.5e\" %residual,end=\"\")\n",
    "    print(\", update norm %0.5e\" %np.linalg.norm(update),end=\"\")\n",
    "    print(\", log(Ri/R0) %0.5e\" %np.log(residualOld/residual0),end=\"\")\n",
    "    print(\", log(Ri+1/R0) %0.5e\" %np.log(residual/residual0),end=\"\")\n",
    "    print(\"\")\n",
    "\n",
    "    residualOld = residual\n",
    "\n",
    "    if (np.linalg.norm(update) < tol):\n",
    "        break\n",
    "    elif (it+1==itmax):\n",
    "        print(\"Maximum iterations reached\")\n",
    "\n",
    "\n",
    "# Constructs the displacement\n",
    "def constructDisplacement(solVec):\n",
    "    return assembler.constructDisplacement(solVec)\n",
    "\n",
    "# Constructs the displaced shell\n",
    "def constructSolution(solVec):\n",
    "    return assembler.constructSolution(solVec)\n",
    "\n"
   ]
  },
  {
   "cell_type": "code",
   "execution_count": null,
   "id": "2e101d28",
   "metadata": {},
   "outputs": [],
   "source": [
    "# Plots the geometry\n",
    "fig = plt.figure(figsize =(14, 9))\n",
    "ax = fig.add_subplot(projection ='3d')\n",
    "\n",
    "nx = ny = 100\n",
    "x = np.linspace(0, 1, nx)\n",
    "y = np.linspace(0, 1, ny)\n",
    "xv, yv = np.meshgrid(x,y,indexing='xy')\n",
    "pts = np.stack((xv.flatten(),yv.flatten()))\n",
    "geom = mp.patch(0).eval(pts)\n",
    "x = geom[0,:].reshape(nx,ny)\n",
    "y = geom[1,:].reshape(nx,ny)\n",
    "z = geom[2,:].reshape(nx,ny)\n",
    "ax.plot_surface(x,y,z)"
   ]
  },
  {
   "cell_type": "code",
   "execution_count": null,
   "id": "b002745d",
   "metadata": {},
   "outputs": [],
   "source": [
    "# Plots the deformed geometry\n",
    "fig = plt.figure(figsize =(14, 9))\n",
    "ax = fig.add_subplot(projection ='3d')\n",
    "\n",
    "mp_def = constructSolution(solution)\n",
    "nx = ny = 100\n",
    "x = np.linspace(0, 1, nx)\n",
    "y = np.linspace(0, 1, ny)\n",
    "xv, yv = np.meshgrid(x,y,indexing='xy')\n",
    "pts = np.stack((xv.flatten(),yv.flatten()))\n",
    "\n",
    "deformed = mp_def.patch(0).eval(pts)\n",
    "XX = deformed[0,:].reshape((nx,ny))\n",
    "YY = deformed[1,:].reshape((nx,ny))\n",
    "ZZ = deformed[2,:].reshape((nx,ny))\n",
    "p = ax.plot_surface(XX,YY,ZZ,cmap=cm.coolwarm)\n",
    "fig.colorbar(p)"
   ]
  },
  {
   "cell_type": "code",
   "execution_count": null,
   "id": "295b035a",
   "metadata": {},
   "outputs": [],
   "source": []
  },
  {
   "cell_type": "code",
   "execution_count": null,
   "id": "82ab9f73",
   "metadata": {},
   "outputs": [],
   "source": []
  },
  {
   "cell_type": "code",
   "execution_count": null,
   "id": "728b3125",
   "metadata": {},
   "outputs": [],
   "source": []
  },
  {
   "cell_type": "code",
   "execution_count": null,
   "id": "f0227ab1",
   "metadata": {},
   "outputs": [],
   "source": []
  },
  {
   "cell_type": "code",
   "execution_count": null,
   "id": "b4e2733e",
   "metadata": {},
   "outputs": [],
   "source": []
  }
 ],
 "metadata": {
  "kernelspec": {
   "display_name": "Python 3 (ipykernel)",
   "language": "python",
   "name": "python3"
  },
  "language_info": {
   "codemirror_mode": {
    "name": "ipython",
    "version": 3
   },
   "file_extension": ".py",
   "mimetype": "text/x-python",
   "name": "python",
   "nbconvert_exporter": "python",
   "pygments_lexer": "ipython3",
   "version": "3.8.10"
  }
 },
 "nbformat": 4,
 "nbformat_minor": 5
}
