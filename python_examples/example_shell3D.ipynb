{
 "cells": [
  {
   "cell_type": "markdown",
   "id": "d8a99b4a",
   "metadata": {},
   "source": [
    "\n",
    "# Python interface for thin shells\n",
    "```\n",
    "This file is part of the G+Smo library.\n",
    "\n",
    "This Source Code Form is subject to the terms of the Mozilla Public\n",
    "License, v. 2.0. If a copy of the MPL was not distributed with this\n",
    "file, You can obtain one at http://mozilla.org/MPL/2.0/.\n",
    "\n",
    "Author(s): H.M. Verhelst\n",
    "```\n",
    "## Prerequisites & Dependencies\n",
    "This example relies on the `pybind11` interface of G+Smo. Furthermore, the Kirchhoff-Love shell library is used. Therefore, build G+Smo with the following settings.\n",
    "```\n",
    "cd <build directory>\n",
    "cmake . -DGISMO_PYBIND11=ON -DGISMO_KLSHELL=ON\n",
    "make pygismo\n",
    "```"
   ]
  },
  {
   "cell_type": "markdown",
   "id": "f122972c",
   "metadata": {},
   "source": [
    "#### Load submodules"
   ]
  },
  {
   "cell_type": "code",
   "execution_count": 1,
   "id": "f053473d",
   "metadata": {},
   "outputs": [
    {
     "name": "stdout",
     "output_type": "stream",
     "text": [
      "G+Smo path: /home/hverhelst/Documents/gismo_stable/extensions/gsKLShell/python_examples/../../../ (change if needed).\n"
     ]
    }
   ],
   "source": [
    "# Required for finding pygismo\n",
    "import os, sys\n",
    "# Obtain pygismo\n",
    "gismo_path=os.path.join(os.getcwd() , \"../../../\")\n",
    "print(\"G+Smo path:\",gismo_path,\"(change if needed).\")\n",
    "sys.path.append(gismo_path+\"build/lib\")\n",
    "\n",
    "# Import pygismo\n",
    "import pygismo as gs ## If this line gives an error, check your path or check if pygismo is compiled\n",
    "\n",
    "# Import other modules\n",
    "import numpy as np\n",
    "import scipy.sparse.linalg as la\n",
    "from matplotlib import cm\n",
    "import matplotlib.pyplot as plt\n",
    "from mpl_toolkits.mplot3d import Axes3D\n",
    "# for creating a responsive plot\n",
    "%matplotlib widget"
   ]
  },
  {
   "cell_type": "markdown",
   "id": "d483d4fb",
   "metadata": {},
   "source": [
    "#### Make a geometry"
   ]
  },
  {
   "cell_type": "code",
   "execution_count": 2,
   "id": "0533b314",
   "metadata": {},
   "outputs": [
    {
     "ename": "TypeError",
     "evalue": "__init__(): incompatible constructor arguments. The following argument types are supported:\n    1. pygismo.nurbs.gsTensorBSpline2(arg0: pygismo.nurbs.gsKnotVector, arg1: pygismo.nurbs.gsKnotVector, arg2: numpy.ndarray[numpy.float64[m, n]])\n    2. pygismo.nurbs.gsTensorBSpline2(arg0: gismo::gsTensorBSplineBasis<2, double>, arg1: numpy.ndarray[numpy.float64[m, n]])\n\nInvoked with: ",
     "output_type": "error",
     "traceback": [
      "\u001b[0;31m---------------------------------------------------------------------------\u001b[0m",
      "\u001b[0;31mTypeError\u001b[0m                                 Traceback (most recent call last)",
      "\u001b[0;32m/tmp/ipykernel_2395047/3592744759.py\u001b[0m in \u001b[0;36m<module>\u001b[0;34m\u001b[0m\n\u001b[1;32m     17\u001b[0m \u001b[0mtspline1\u001b[0m \u001b[0;34m=\u001b[0m \u001b[0mgs\u001b[0m\u001b[0;34m.\u001b[0m\u001b[0mnurbs\u001b[0m\u001b[0;34m.\u001b[0m\u001b[0mgsTensorBSpline2\u001b[0m\u001b[0;34m(\u001b[0m\u001b[0mtbasis1\u001b[0m\u001b[0;34m,\u001b[0m\u001b[0mcoefs\u001b[0m\u001b[0;34m)\u001b[0m\u001b[0;34m\u001b[0m\u001b[0;34m\u001b[0m\u001b[0m\n\u001b[1;32m     18\u001b[0m \u001b[0;34m\u001b[0m\u001b[0m\n\u001b[0;32m---> 19\u001b[0;31m \u001b[0mtspline2\u001b[0m \u001b[0;34m=\u001b[0m \u001b[0mgs\u001b[0m\u001b[0;34m.\u001b[0m\u001b[0mnurbs\u001b[0m\u001b[0;34m.\u001b[0m\u001b[0mgsTensorBSpline2\u001b[0m\u001b[0;34m(\u001b[0m\u001b[0;34m)\u001b[0m\u001b[0;34m\u001b[0m\u001b[0;34m\u001b[0m\u001b[0m\n\u001b[0m\u001b[1;32m     20\u001b[0m \u001b[0;34m\u001b[0m\u001b[0m\n\u001b[1;32m     21\u001b[0m \u001b[0mmp\u001b[0m \u001b[0;34m=\u001b[0m \u001b[0mgs\u001b[0m\u001b[0;34m.\u001b[0m\u001b[0mcore\u001b[0m\u001b[0;34m.\u001b[0m\u001b[0mgsMultiPatch\u001b[0m\u001b[0;34m(\u001b[0m\u001b[0;34m)\u001b[0m\u001b[0;34m\u001b[0m\u001b[0;34m\u001b[0m\u001b[0m\n",
      "\u001b[0;31mTypeError\u001b[0m: __init__(): incompatible constructor arguments. The following argument types are supported:\n    1. pygismo.nurbs.gsTensorBSpline2(arg0: pygismo.nurbs.gsKnotVector, arg1: pygismo.nurbs.gsKnotVector, arg2: numpy.ndarray[numpy.float64[m, n]])\n    2. pygismo.nurbs.gsTensorBSpline2(arg0: gismo::gsTensorBSplineBasis<2, double>, arg1: numpy.ndarray[numpy.float64[m, n]])\n\nInvoked with: "
     ]
    }
   ],
   "source": [
    "## See gismo/filedata/surfaces/simple.xml for the geometry\n",
    "c1 = np.array([0.,0.,1.,1.])\n",
    "c2 = np.array([0.,0.,1.,1.])\n",
    "ku1 = gs.nurbs.gsKnotVector(c1,1)\n",
    "ku2 = gs.nurbs.gsKnotVector(c2,1)\n",
    "\n",
    "coefs = np.array([\n",
    "                    [0     ,0    ,0   ],\n",
    "                    [1     ,0    ,0   ],\n",
    "                    [0     ,1    ,0   ],\n",
    "                    [1     ,1    ,0   ],\n",
    "                        ])\n",
    "\n",
    "\n",
    "# Construct basis using knot vectors\n",
    "tbasis1 = gs.nurbs.gsTensorBSplineBasis2(ku1,ku2)\n",
    "tspline1 = gs.nurbs.gsTensorBSpline2(tbasis1,coefs)\n",
    "\n",
    "tspline2 = gs.nurbs.gsTensorBSpline2()\n",
    "\n",
    "mp = gs.core.gsMultiPatch()\n",
    "gs.io.gsReadFile(os.path.join(gismo_path , \"filedata/3dm/channel_surf_refit.3dm\"),mp)\n",
    "\n",
    "# fd = gs.io.gsFileData(os.path.join(os.getcwd() , \"../../../filedata/3dm/channel_surf_refit.3dm\"))\n",
    "# fd.contents()\n",
    "# fd.getId(0,tspline2)\n"
   ]
  },
  {
   "cell_type": "code",
   "execution_count": null,
   "id": "c0af95bf",
   "metadata": {},
   "outputs": [],
   "source": [
    "# mp = gs.core.gsMultiPatch()\n",
    "# mp.addPatch(tspline1)"
   ]
  },
  {
   "cell_type": "code",
   "execution_count": null,
   "id": "739e0aa3",
   "metadata": {},
   "outputs": [],
   "source": [
    "nx = ny = 100\n",
    "x = np.linspace(0, 1, nx)\n",
    "\n",
    "y = np.linspace(0, 1, ny)\n",
    "\n",
    "xv, yv = np.meshgrid(x,y,indexing='xy')\n",
    "pts = np.stack((xv.flatten(),yv.flatten()))\n"
   ]
  },
  {
   "cell_type": "code",
   "execution_count": null,
   "id": "23b10568",
   "metadata": {},
   "outputs": [],
   "source": [
    "geom = mp.patch(0).eval(pts)\n",
    "x = geom[0,:].reshape(nx,ny)\n",
    "y = geom[1,:].reshape(nx,ny)\n",
    "z = geom[2,:].reshape(nx,ny)\n",
    "\n"
   ]
  },
  {
   "cell_type": "code",
   "execution_count": null,
   "id": "b19a2959",
   "metadata": {},
   "outputs": [],
   "source": [
    "%matplotlib widget\n",
    "\n",
    "# creating figure\n",
    "fig = plt.figure()\n",
    "ax = fig.gca(projection='3d')\n",
    "# creating the plot\n",
    "plot = ax.plot_surface(x,y,z)\n",
    "  \n",
    "# displaying the plot\n",
    "plt.show()\n"
   ]
  },
  {
   "cell_type": "code",
   "execution_count": null,
   "id": "b15e4835",
   "metadata": {},
   "outputs": [],
   "source": []
  },
  {
   "cell_type": "code",
   "execution_count": null,
   "id": "ebdc6947",
   "metadata": {},
   "outputs": [],
   "source": []
  },
  {
   "cell_type": "code",
   "execution_count": null,
   "id": "df370012",
   "metadata": {},
   "outputs": [],
   "source": []
  },
  {
   "cell_type": "code",
   "execution_count": null,
   "id": "5c4e93ec",
   "metadata": {},
   "outputs": [],
   "source": []
  },
  {
   "cell_type": "code",
   "execution_count": null,
   "id": "659fb3e7",
   "metadata": {},
   "outputs": [],
   "source": []
  },
  {
   "cell_type": "code",
   "execution_count": null,
   "id": "2d70a5b0",
   "metadata": {},
   "outputs": [],
   "source": []
  },
  {
   "cell_type": "code",
   "execution_count": null,
   "id": "e21a767f",
   "metadata": {},
   "outputs": [],
   "source": []
  },
  {
   "cell_type": "code",
   "execution_count": null,
   "id": "19d16e09",
   "metadata": {},
   "outputs": [],
   "source": []
  }
 ],
 "metadata": {
  "kernelspec": {
   "display_name": "Python 3 (ipykernel)",
   "language": "python",
   "name": "python3"
  },
  "language_info": {
   "codemirror_mode": {
    "name": "ipython",
    "version": 3
   },
   "file_extension": ".py",
   "mimetype": "text/x-python",
   "name": "python",
   "nbconvert_exporter": "python",
   "pygments_lexer": "ipython3",
   "version": "3.8.10"
  }
 },
 "nbformat": 4,
 "nbformat_minor": 5
}
