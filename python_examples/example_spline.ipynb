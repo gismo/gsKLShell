{
 "cells": [
  {
   "cell_type": "markdown",
   "id": "4aab8b92",
   "metadata": {},
   "source": [
    "\n",
    "# Python interface for thin shells\n",
    "```\n",
    "This file is part of the G+Smo library.\n",
    "\n",
    "This Source Code Form is subject to the terms of the Mozilla Public\n",
    "License, v. 2.0. If a copy of the MPL was not distributed with this\n",
    "file, You can obtain one at http://mozilla.org/MPL/2.0/.\n",
    "\n",
    "Author(s): H.M. Verhelst\n",
    "```\n",
    "## Prerequisites & Dependencies\n",
    "This example relies on the `pybind11` interface of G+Smo. This means that you need to have `pybind11` installed in python:\n",
    "```\n",
    "pip install pybind11\n",
    "```\n",
    "Furthermore, the Kirchhoff-Love shell library is used. Therefore, build G+Smo with the following settings.\n",
    "```\n",
    "cd <build directory>\n",
    "cmake . -DGISMO_PYBIND11=ON -DGISMO_KLSHELL=ON\n",
    "make pygismo\n",
    "```\n",
    "If CMake cannot find `pybind11`, run the following\n",
    "```\n",
    "exportpybind11_DIR=<path to pybind11>\n",
    "```\n",
    "You can find the paths to installed packages of python by calling\n",
    "```\n",
    "python -m site\n",
    "```\n",
    "Then find `pybind11` in on of these locations and give this ar the `<path to pybind11>`\n",
    "\n"
   ]
  },
  {
   "cell_type": "code",
   "execution_count": null,
   "id": "d6f41687",
   "metadata": {},
   "outputs": [],
   "source": [
    "# Required for finding pygismo\n",
    "import os, sys\n",
    "# Obtain pygismo\n",
    "gismo_path=os.path.join(os.getcwd() , \"../../../\")\n",
    "print(\"G+Smo path:\",gismo_path,\"(change if needed).\")\n",
    "sys.path.append(gismo_path+\"build/lib\")\n",
    "\n",
    "# Import pygismo\n",
    "import pygismo as gs ## If this line gives an error, check your path or check if pygismo is compiled\n",
    "\n",
    "# Import other modules\n",
    "import numpy as np\n",
    "import scipy.sparse.linalg as la\n",
    "from matplotlib import cm\n",
    "import matplotlib.pyplot as plt\n",
    "from mpl_toolkits.mplot3d import Axes3D\n"
   ]
  },
  {
   "cell_type": "markdown",
   "id": "e7657aeb",
   "metadata": {},
   "source": [
    "First we define a *knot vector* ([Wikipedia link](https://en.wikipedia.org/wiki/Spline_(mathematics)#Definition)):\n",
    "$$\\Xi_1 = \\{0,0,0,0.25,0.5,0.75,1,1,1\\}$$\n",
    "This knot vector has degree 2."
   ]
  },
  {
   "cell_type": "code",
   "execution_count": null,
   "id": "49e8abc8",
   "metadata": {},
   "outputs": [],
   "source": [
    "Xi_1 = gs.nurbs.gsKnotVector([0,0,0,0.25,0.5,0.75,1,1,1],2)"
   ]
  },
  {
   "cell_type": "markdown",
   "id": "6d24b18d",
   "metadata": {},
   "source": [
    "Now we will assign a basis using this knot vector"
   ]
  },
  {
   "cell_type": "code",
   "execution_count": null,
   "id": "b512e1fd",
   "metadata": {},
   "outputs": [],
   "source": [
    "basis = gs.nurbs.gsBSplineBasis(Xi_1)"
   ]
  },
  {
   "cell_type": "markdown",
   "id": "436e93ff",
   "metadata": {},
   "source": [
    "Let's plot the basis!"
   ]
  },
  {
   "cell_type": "code",
   "execution_count": null,
   "id": "fe56bc38",
   "metadata": {},
   "outputs": [],
   "source": [
    "# make a vector of parametric points between 0 and 1\n",
    "N = 100\n",
    "ev = np.zeros((basis.size(),N))\n",
    "xi = np.zeros((basis.size(),N))\n",
    "\n",
    "for i in range(0,basis.size()):\n",
    "    supp = basis.support(i)\n",
    "    xi_tmp = xi[i,:] = np.linspace(supp[0,0],supp[0,1],N).reshape(-1,1).transpose()\n",
    "    ev[i,:] = basis.function(i).eval(xi_tmp)\n",
    "\n",
    "\n",
    "plt.plot(xi.transpose(),ev.transpose())\n",
    "plt.show()"
   ]
  },
  {
   "cell_type": "markdown",
   "id": "ada1c124",
   "metadata": {},
   "source": [
    "Now we add some coefficients"
   ]
  },
  {
   "cell_type": "code",
   "execution_count": null,
   "id": "0609a0a3-67a8-4a7f-ad6a-88af9a537d49",
   "metadata": {},
   "outputs": [],
   "source": [
    "coefs = np.matrix([\n",
    "                    [0.0],\n",
    "                    [1.0],\n",
    "                    [0.5],\n",
    "                    [1.5],\n",
    "                    [1.0],\n",
    "                    [2.0]\n",
    "                                ])"
   ]
  },
  {
   "cell_type": "markdown",
   "id": "9a7772b1-493e-4776-aa01-6ae389bacc94",
   "metadata": {},
   "source": [
    "And now we define a spline, given control points $\\Xi$ and B-spline basis functions basis functions $$\\phi_i(x)$$, a B-spline ${S}$ is defined as:\n",
    "$${S}(\\xi) = \\sum_i \\mathbf{C}_i \\phi_i(x)$$"
   ]
  },
  {
   "cell_type": "code",
   "execution_count": null,
   "id": "97348f60",
   "metadata": {},
   "outputs": [],
   "source": [
    "spline = gs.nurbs.gsBSpline(basis,coefs)"
   ]
  },
  {
   "cell_type": "markdown",
   "id": "39fb46b3-0acd-4aa8-ac12-ae695a99204b",
   "metadata": {},
   "source": [
    "The basis can be evaluated in G+Smo by evaluating all functions in their support region, i.e. the region where the function values are non-zero. When we then multiply each basis function with their corresponding coefficient, we get the contributions of the basis functions to the final spline."
   ]
  },
  {
   "cell_type": "code",
   "execution_count": null,
   "id": "3d4bf329-c99b-464d-9211-9d44f5b01490",
   "metadata": {},
   "outputs": [],
   "source": [
    "supp = basis.support()\n",
    "xi = np.linspace(supp[0,0],supp[0,1],N).reshape(-1,1).transpose()\n",
    "ev = spline.eval(xi)\n",
    "plt.plot(xi.transpose(),ev.transpose())\n",
    "\n",
    "ev = np.zeros((basis.size(),N))\n",
    "xi = np.zeros((basis.size(),N))\n",
    "for i in range(0,basis.size()):\n",
    "    supp = basis.support(i)\n",
    "    xi_tmp = xi[i,:] = np.linspace(supp[0,0],supp[0,1],N).reshape(-1,1).transpose()\n",
    "    ev[i,:] = coefs[i,:].transpose() * basis.function(i).eval(xi_tmp)\n",
    "    \n",
    "plt.plot(xi.transpose(),ev.transpose())\n",
    "plt.show()"
   ]
  },
  {
   "cell_type": "markdown",
   "id": "3c95ea60-50b6-468b-98ba-f7fc6d191ee7",
   "metadata": {},
   "source": [
    "In the same way, we can plot a 2D tensor basis using G+Smo. Here, we use the same knot vector in both directions."
   ]
  },
  {
   "cell_type": "code",
   "execution_count": null,
   "id": "f2e5668f-be64-488c-8548-51972ce3da1c",
   "metadata": {},
   "outputs": [],
   "source": [
    "Xi_2 = Xi_1\n",
    "basis2d = gs.nurbs.gsTensorBSplineBasis2(Xi_1,Xi_2)\n",
    "\n",
    "nx = ny = 20\n",
    "ev  = np.zeros((basis.size(),nx*ny))\n",
    "xi  = np.zeros((basis.size(),nx*ny))\n",
    "eta = np.zeros((basis.size(),nx*ny))\n",
    "\n",
    "from IPython.display import display, clear_output\n",
    "import time\n",
    "\n",
    "fig = plt.figure()\n",
    "ax = fig.gca(projection='3d')\n",
    "ax.set_xlabel(\"$x$\")\n",
    "ax.set_ylabel('$y$')\n",
    "ax.set_zlabel('$\\phi_i$')\n",
    "ax.set_xlim(0,1)\n",
    "ax.set_ylim(0,1)\n",
    "ax.set_zlim(0,1)\n",
    "for i in range(0,basis2d.size()):\n",
    "# for i in [2,3,5]:\n",
    "    supp = basis2d.support(i)\n",
    "    x = np.linspace(supp[0,0], supp[0,1], nx)\n",
    "    y = np.linspace(supp[1,0], supp[1,1], ny)\n",
    "    xv, yv = np.meshgrid(x,y,indexing='xy')\n",
    "\n",
    "    pts = np.stack((xv.flatten(),yv.flatten()))\n",
    "    \n",
    "    xi_tmp = xv.flatten()\n",
    "    eta_tmp= yv.flatten()\n",
    "    \n",
    "    func = basis2d.function(i).eval(pts).reshape(nx,ny)\n",
    "        \n",
    "    # creating the plot\n",
    "    surf = ax.plot_surface(xv,yv,func)\n",
    "    display(fig)\n",
    "    clear_output(wait = True)\n",
    "    surf.remove()\n",
    "    time.sleep(0.2)\n",
    "    "
   ]
  },
  {
   "cell_type": "markdown",
   "id": "92169ad8",
   "metadata": {},
   "source": [
    "## Read a spline from a file"
   ]
  },
  {
   "cell_type": "code",
   "execution_count": null,
   "id": "a0364b71",
   "metadata": {},
   "outputs": [],
   "source": [
    "mp = gs.core.gsMultiPatch()\n",
    "gs.io.gsReadFile(os.path.join(gismo_path , \"filedata/3dm/BB2_clean.3dm\"),mp)"
   ]
  },
  {
   "cell_type": "code",
   "execution_count": null,
   "id": "1a7e5787",
   "metadata": {},
   "outputs": [],
   "source": [
    "nx = ny = 100\n",
    "x = np.linspace(0, 1, nx)\n",
    "\n",
    "y = np.linspace(0, 1, ny)\n",
    "\n",
    "xv, yv = np.meshgrid(x,y,indexing='xy')\n",
    "pts = np.stack((xv.flatten(),yv.flatten()))\n",
    "\n",
    "# creating figure\n",
    "fig = plt.figure(figsize =(14, 9))\n",
    "ax = fig.gca(projection='3d')\n",
    "for p in range(0,mp.nPatches()):\n",
    "    geom = mp.patch(p).eval(pts)\n",
    "    x = geom[0,:].reshape(nx,ny)\n",
    "    y = geom[1,:].reshape(nx,ny)\n",
    "    z = geom[2,:].reshape(nx,ny)\n",
    "\n",
    "\n",
    "    # creating the plot\n",
    "    plot = ax.plot_surface(x,y,z)\n",
    "  \n",
    "# displaying the plot\n",
    "plt.show()"
   ]
  },
  {
   "cell_type": "code",
   "execution_count": null,
   "id": "f58aa6e0",
   "metadata": {},
   "outputs": [],
   "source": []
  },
  {
   "cell_type": "code",
   "execution_count": null,
   "id": "1a8fa30f",
   "metadata": {},
   "outputs": [],
   "source": []
  },
  {
   "cell_type": "code",
   "execution_count": null,
   "id": "e7f8b45f",
   "metadata": {},
   "outputs": [],
   "source": []
  }
 ],
 "metadata": {
  "kernelspec": {
   "display_name": "Python 3 (ipykernel)",
   "language": "python",
   "name": "python3"
  },
  "language_info": {
   "codemirror_mode": {
    "name": "ipython",
    "version": 3
   },
   "file_extension": ".py",
   "mimetype": "text/x-python",
   "name": "python",
   "nbconvert_exporter": "python",
   "pygments_lexer": "ipython3",
   "version": "3.8.10"
  }
 },
 "nbformat": 4,
 "nbformat_minor": 5
}
