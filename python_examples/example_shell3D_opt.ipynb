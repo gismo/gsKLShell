{
 "cells": [
  {
   "cell_type": "markdown",
   "id": "b9eb9c66",
   "metadata": {},
   "source": [
    "\n",
    "# Python interface for thin shells\n",
    "```\n",
    "This file is part of the G+Smo library.\n",
    "\n",
    "This Source Code Form is subject to the terms of the Mozilla Public\n",
    "License, v. 2.0. If a copy of the MPL was not distributed with this\n",
    "file, You can obtain one at http://mozilla.org/MPL/2.0/.\n",
    "\n",
    "Author(s): H.M. Verhelst\n",
    "```\n",
    "## Prerequisites & Dependencies\n",
    "This example relies on the `pybind11` interface of G+Smo. This means that you need to have `pybind11` installed in python:\n",
    "```\n",
    "pip install pybind11\n",
    "```\n",
    "Furthermore, the Kirchhoff-Love shell library is used. Therefore, build G+Smo with the following settings.\n",
    "```\n",
    "cd <build directory>\n",
    "cmake . -DGISMO_BUILD_PYBIND11=ON -DGISMO_KLSHELL=ON\n",
    "make pygismo\n",
    "```\n",
    "If CMake cannot find `pybind11`, run the following\n",
    "```\n",
    "export pybind11_DIR=<path to pybind11>\n",
    "```\n",
    "You can find the paths to installed packages of python by calling\n",
    "```\n",
    "python -m site\n",
    "```\n",
    "Then find `pybind11` in on of these locations and give this ar the `<path to pybind11>`\n",
    "\n"
   ]
  },
  {
   "cell_type": "markdown",
   "id": "b77ce440",
   "metadata": {},
   "source": [
    "## Preamble"
   ]
  },
  {
   "cell_type": "code",
   "execution_count": null,
   "id": "89fb9852",
   "metadata": {},
   "outputs": [],
   "source": [
    "# Required for finding pygismo\n",
    "import os, sys\n",
    "# Obtain pygismo\n",
    "gismo_path=os.path.join(os.getcwd() , \"../../../\")\n",
    "print(\"G+Smo path:\",gismo_path,\"(change if needed).\")\n",
    "sys.path.append(gismo_path+\"build/lib\")\n",
    "\n",
    "# Import pygismo\n",
    "import pygismo as gs ## If this line gives an error, check your path or check if pygismo is compiled\n",
    "\n",
    "# Import other modules\n",
    "import numpy as np\n",
    "import scipy.sparse.linalg as la\n",
    "from matplotlib import cm\n",
    "import matplotlib.pyplot as plt\n",
    "from mpl_toolkits.mplot3d import Axes3D\n",
    "# for creating a responsive plot\n",
    "# %matplotlib widget\n",
    "%matplotlib inline\n",
    "\n",
    "import scipy.optimize as opt"
   ]
  },
  {
   "cell_type": "markdown",
   "id": "5aa448ee",
   "metadata": {},
   "source": [
    "## Initialization of geometry and material"
   ]
  },
  {
   "cell_type": "markdown",
   "id": "511ba04c",
   "metadata": {},
   "source": [
    "#### Make a geometry"
   ]
  },
  {
   "cell_type": "code",
   "execution_count": null,
   "id": "b7784ec0",
   "metadata": {},
   "outputs": [],
   "source": [
    "c1 = np.array([0.,0.,1.,1.])\n",
    "c2 = np.array([0.,0.,1.,1.])\n",
    "ku1 = gs.nurbs.gsKnotVector(c1,1)\n",
    "ku2 = gs.nurbs.gsKnotVector(c2,1)\n",
    "\n",
    "coefs = np.array([\n",
    "                    [0     ,0    ,0   ],\n",
    "                    [2     ,0    ,0   ],\n",
    "                    [0     ,2    ,0   ],\n",
    "                    [2     ,2    ,0   ],\n",
    "                        ])\n",
    "\n",
    "# Construct basis using knot vectors\n",
    "tbasis1 = gs.nurbs.gsTensorBSplineBasis2(ku1,ku2)\n",
    "tspline1 = gs.nurbs.gsTensorBSpline2(tbasis1,coefs)"
   ]
  },
  {
   "cell_type": "markdown",
   "id": "6cc61dd3",
   "metadata": {},
   "source": [
    "### Define the multipatch object and refine and elevate"
   ]
  },
  {
   "cell_type": "code",
   "execution_count": null,
   "id": "110ac414",
   "metadata": {},
   "outputs": [],
   "source": [
    "mp = gs.core.gsMultiPatch()\n",
    "mp.addPatch(tspline1)\n",
    "\n",
    "# elevate the degree (starts at 1)\n",
    "mp.degreeElevate()     #degree = 2\n",
    "# mp.degreeElevate()     #degree = 3\n",
    "mp.uniformRefine()     # 4 elements\n",
    "mp.uniformRefine()     # 16 elements\n",
    "mp.uniformRefine()     # 32 elements\n",
    "\n",
    "# multibasis\n",
    "mb = gs.core.gsMultiBasis(mp)\n",
    "\n",
    "# store the coefficients\n",
    "coefs = mp.patch(0).coefs()"
   ]
  },
  {
   "cell_type": "markdown",
   "id": "f3b314ff",
   "metadata": {},
   "source": [
    "### Create a mask for the DoFs that are design variables (only not the corners of the domain)"
   ]
  },
  {
   "cell_type": "code",
   "execution_count": null,
   "id": "b7231e56",
   "metadata": {},
   "outputs": [],
   "source": [
    "mask_00     = (coefs[:,0] < 1e-12  ) & (coefs[:,1] < 1e-12  )\n",
    "mask_01     = (coefs[:,0] < 1e-12  ) & (coefs[:,1] > 2-1e-12)\n",
    "mask_10     = (coefs[:,0] > 2-1e-12) & (coefs[:,1] < 1e-12  )\n",
    "mask_11     = (coefs[:,0] > 2-1e-12) & (coefs[:,1] > 2-1e-12)\n",
    "\n",
    "cornermask  = mask_00 | mask_01 | mask_10 | mask_11\n",
    "\n",
    "# # mask_00     = (coefs[:,0] < 1e-12  ) & (coefs[:,1] < 1e-12  )\n",
    "# # mask_01     = (coefs[:,1] > 1-1e-12)\n",
    "# # mask_10     = (coefs[:,0] > 1-1e-12)\n",
    "# cornermask  = mask_00 | mask_01 | mask_10\n",
    "interiormask= ~cornermask\n",
    "\n",
    "shape = np.shape(coefs[interiormask])"
   ]
  },
  {
   "cell_type": "markdown",
   "id": "75879f20",
   "metadata": {},
   "source": [
    "### Define the shell characteristics"
   ]
  },
  {
   "cell_type": "code",
   "execution_count": null,
   "id": "a7fdce80",
   "metadata": {},
   "outputs": [],
   "source": [
    "# thickness\n",
    "t = gs.core.gsFunctionExpr(\"0.02\",3)\n",
    "# Young's modulus\n",
    "E = gs.core.gsFunctionExpr(\"10e6\",3)\n",
    "# Poisson's ratio\n",
    "nu = gs.core.gsFunctionExpr(\"0.3\",3)\n",
    "# Surface force\n",
    "f = gs.core.gsFunctionExpr(\"0\",\"0\",\"0\",3)\n",
    "# Point loads\n",
    "pload = gs.pde.gsPointLoads()\n",
    "pload.addLoad(np.array([0.25,0.5]),np.array([0,0,-1]),0,True)\n",
    "pload.addLoad(np.array([0.75,0.5]),np.array([0,0,-1]),0,True)\n",
    "pload.addLoad(np.array([0.5,0.25]),np.array([0,0,-1]),0,True)\n",
    "pload.addLoad(np.array([0.5,0.75]),np.array([0,0,-1]),0,True)\n",
    "\n",
    "# pload.addLoad(np.array([0.5,0.5]),np.array([0,0,-1]),0,True)"
   ]
  },
  {
   "cell_type": "markdown",
   "id": "5b388809",
   "metadata": {},
   "source": [
    "### Define boundary conditions"
   ]
  },
  {
   "cell_type": "code",
   "execution_count": null,
   "id": "d5df6fbe",
   "metadata": {},
   "outputs": [],
   "source": [
    "bcs = gs.pde.gsBoundaryConditions();\n",
    "for d in range(0,3):\n",
    "    for corner in [gs.core.corner.northwest, \n",
    "                 gs.core.corner.northeast, \n",
    "                 gs.core.corner.southwest, \n",
    "                 gs.core.corner.southeast]:\n",
    "        bcs.addCornerValue(corner,0.0,0,0,d) # corner, value, patch, unknown, component\n",
    "\n",
    "# null = gs.core.gsFunctionExpr(\"0\",3)\n",
    "# for d in range(0,3):\n",
    "#     for side in [gs.core.side.west, \n",
    "#                  gs.core.side.east, \n",
    "#                  gs.core.side.south, \n",
    "#                  gs.core.side.north]:\n",
    "#         bcs.addCondition(0,side,gs.pde.bctype.dirichlet,null,0,False,d)\n",
    "        \n",
    "# assign the geometry to the boundary conditions\n",
    "\n",
    "# # Symmetric\n",
    "# bcs = gs.pde.gsBoundaryConditions();\n",
    "# for d in range(0,3):\n",
    "#     for corner in [gs.core.corner.southwest]:\n",
    "#         bcs.addCornerValue(corner,0.0,0,0,d) # corner, value, patch, unknown, component\n",
    "\n",
    "# null = gs.core.gsFunctionExpr(\"0\",3)\n",
    "# bcs.addCondition(0,gs.core.side.east,gs.pde.bctype.dirichlet,null,0,False,0)\n",
    "# bcs.addCondition(0,gs.core.side.east,gs.pde.bctype.clamped,null,0,False,2)\n",
    "# bcs.addCondition(0,gs.core.side.north,gs.pde.bctype.dirichlet,null,0,False,1)\n",
    "# bcs.addCondition(0,gs.core.side.north,gs.pde.bctype.clamped,null,0,False,2)\n",
    "\n",
    "bcs.setGeoMap(mp) "
   ]
  },
  {
   "cell_type": "markdown",
   "id": "eac20310",
   "metadata": {},
   "source": [
    "### Define material matrix and solver"
   ]
  },
  {
   "cell_type": "code",
   "execution_count": null,
   "id": "cc42a6ab",
   "metadata": {},
   "outputs": [],
   "source": [
    "mm = gs.klshell.gsMaterialMatrixLinear3(mp,t)\n",
    "mm.setYoungsModulus(E)\n",
    "mm.setPoissonsRatio(nu)\n",
    "\n",
    "assembler = gs.klshell.gsThinShellAssembler3(mp,mb,bcs,f,mm)\n",
    "assembler.setPointLoads(pload)"
   ]
  },
  {
   "cell_type": "markdown",
   "id": "b30fe13b",
   "metadata": {},
   "source": [
    "## Define functions for solving"
   ]
  },
  {
   "cell_type": "code",
   "execution_count": null,
   "id": "6912ff4b",
   "metadata": {},
   "outputs": [],
   "source": [
    "# Makes a deformed geometry given a vector of design variables\n",
    "def makeGeometry(design):\n",
    "    design = np.resize(design, shape)\n",
    "    mp_tmp = gs.core.gsMultiPatch(mp)\n",
    "    tmp_coefs = mp_tmp.patch(0).coefs()\n",
    "    tmp_coefs[interiormask] = design\n",
    "    mp_tmp.patch(0).setCoefs(tmp_coefs)\n",
    "    return mp_tmp"
   ]
  },
  {
   "cell_type": "code",
   "execution_count": null,
   "id": "f0ff5511",
   "metadata": {},
   "outputs": [],
   "source": [
    "# Computes the deformation given a deformed multipatch\n",
    "# (NB: the commented part is a nonlinear solver)\n",
    "def computeDeformation(mp_tmp):\n",
    "    assembler.setGeometry(mp_tmp)\n",
    "    assembler.assemble()\n",
    "    matrix = assembler.matrix()\n",
    "    vector = assembler.rhs()\n",
    "    solution = la.spsolve(matrix,vector[:,0])\n",
    "    \n",
    "    # def Residual(resvec):\n",
    "    #     sol = assembler.constructSolution(resvec)\n",
    "    #     assembler.assembleVector(sol)\n",
    "    #     return assembler.rhs()\n",
    "\n",
    "    # def Jacobian(resvec):\n",
    "    #     sol = assembler.constructSolution(resvec)\n",
    "    #     assembler.assembleMatrix(sol)\n",
    "    #     return assembler.matrix()\n",
    "    #\n",
    "    # residual = np.linalg.norm(vector)\n",
    "    # residual0 = residual\n",
    "    # residualOld = residual\n",
    "    # update = solution\n",
    "    # resvec = Residual(solution)\n",
    "\n",
    "    # itmax = 100\n",
    "    # tol = 1e-6\n",
    "    # for it in range(0,itmax):\n",
    "    #     jacmat = Jacobian(solution)\n",
    "    #     update = la.spsolve(jacmat,resvec[:,0])\n",
    "    #     solution += update\n",
    "\n",
    "    #     resvec = Residual(solution)\n",
    "    #     residual = np.linalg.norm(resvec)\n",
    "\n",
    "    #     print(\"Iteration \",it,end=\"\")\n",
    "    #     print(\", residue %0.5e\" %residual,end=\"\")\n",
    "    #     print(\", update norm %0.5e\" %np.linalg.norm(update),end=\"\")\n",
    "    #     print(\", log(Ri/R0) %0.5e\" %np.log(residualOld/residual0),end=\"\")\n",
    "    #     print(\", log(Ri+1/R0) %0.5e\" %np.log(residual/residual0),end=\"\")\n",
    "    #     print(\"\")\n",
    "\n",
    "    #     residualOld = residual\n",
    "\n",
    "    #     if (np.linalg.norm(update) < tol):\n",
    "    #         break\n",
    "    #     elif (it+1==itmax):\n",
    "    #         print(\"Maximum iterations reached\")\n",
    "\n",
    "    return solution"
   ]
  },
  {
   "cell_type": "code",
   "execution_count": null,
   "id": "82367080",
   "metadata": {},
   "outputs": [],
   "source": [
    "# Constructs the displacement\n",
    "def constructDisplacement(solution):\n",
    "    return assembler.constructDisplacement(solution)\n",
    "\n",
    "# Constructs the displaced shell\n",
    "def constructSolution(solution):\n",
    "    return assembler.constructSolution(solution)"
   ]
  },
  {
   "cell_type": "code",
   "execution_count": null,
   "id": "261f2f27",
   "metadata": {},
   "outputs": [],
   "source": [
    "# Computes the optimization objective\n",
    "def computeObjective(design):\n",
    "    mp_tmp = makeGeometry(design)\n",
    "    solution = computeDeformation(mp_tmp)\n",
    "    sol = constructDisplacement(solution)\n",
    "\n",
    "    nx = ny = 100\n",
    "    x = np.linspace(0, 1, nx)\n",
    "    y = np.linspace(0, 1, ny)\n",
    "\n",
    "    xv, yv = np.meshgrid(x,y,indexing='xy')\n",
    "    pts = np.stack((xv.flatten(),yv.flatten()))\n",
    "\n",
    "#     pts = np.matrix([[0.5],[0.5]])\n",
    "    \n",
    "    deformation = -sol.patch(0).eval(pts)\n",
    "    return np.max(np.abs(deformation[2,:]))"
   ]
  },
  {
   "cell_type": "code",
   "execution_count": null,
   "id": "ba216618",
   "metadata": {},
   "outputs": [],
   "source": [
    "# Computes the area constraint\n",
    "def computeConstraint(design):\n",
    "    design = np.resize(design, shape)\n",
    "    mp_tmp = gs.core.gsMultiPatch(mp)\n",
    "    tmp_coefs = mp_tmp.patch(0).coefs()\n",
    "    tmp_coefs[interiormask] = design\n",
    "    mp_tmp.patch(0).setCoefs(tmp_coefs)\n",
    "    return assembler.getArea(mp_tmp) - assembler.getArea(mp)\n"
   ]
  },
  {
   "cell_type": "code",
   "execution_count": null,
   "id": "6e5a90bb",
   "metadata": {},
   "outputs": [],
   "source": [
    "# Plots the geometry\n",
    "def plotGeometry(design,ax):\n",
    "    mp_tmp = makeGeometry(design)\n",
    "    nx = ny = 100\n",
    "    x = np.linspace(0, 1, nx)\n",
    "    y = np.linspace(0, 1, ny)\n",
    "    xv, yv = np.meshgrid(x,y,indexing='xy')\n",
    "    pts = np.stack((xv.flatten(),yv.flatten()))\n",
    "    geom = mp_tmp.patch(0).eval(pts)\n",
    "    x = geom[0,:].reshape(nx,ny)\n",
    "    y = geom[1,:].reshape(nx,ny)\n",
    "    z = geom[2,:].reshape(nx,ny)\n",
    "    ax.plot_surface(x,y,z)\n",
    "    return\n",
    "\n",
    "# Plots the deformed geometry\n",
    "def plotDeformation(design,ax):\n",
    "    mp_tmp = makeGeometry(design)\n",
    "    nx = ny = 100\n",
    "    x = np.linspace(0, 1, nx)\n",
    "    y = np.linspace(0, 1, ny)\n",
    "    xv, yv = np.meshgrid(x,y,indexing='xy')\n",
    "    pts = np.stack((xv.flatten(),yv.flatten()))\n",
    "\n",
    "    solution = computeDeformation(mp_tmp)\n",
    "    sol = constructDisplacement(solution)\n",
    "\n",
    "    deformed = sol.patch(0).eval(pts)\n",
    "    XX = deformed[0,:].reshape((nx,ny))\n",
    "    YY = deformed[1,:].reshape((nx,ny))\n",
    "    ZZ = deformed[2,:].reshape((nx,ny))\n",
    "#     ax.plot_surface(xv,yv,ZZ,cmap=cm.coolwarm)\n",
    "    p = ax.contourf(xv,yv,ZZ)\n",
    "    fig.colorbar(p,ax=ax)\n",
    "\n",
    "    return"
   ]
  },
  {
   "cell_type": "markdown",
   "id": "ea5ed86a",
   "metadata": {},
   "source": [
    "## Static solve"
   ]
  },
  {
   "cell_type": "code",
   "execution_count": null,
   "id": "bc27f483",
   "metadata": {},
   "outputs": [],
   "source": [
    "# Make vector of design variables\n",
    "u = coefs[interiormask]\n",
    "u = u.flatten()"
   ]
  },
  {
   "cell_type": "code",
   "execution_count": null,
   "id": "e2ff3e5b",
   "metadata": {},
   "outputs": [],
   "source": [
    "fig = plt.figure(figsize =(14, 9))\n",
    "ax = fig.add_subplot()#projection ='3d')\n",
    "plotDeformation(u,ax)\n",
    "\n",
    "print(computeObjective(u))\n",
    "\n",
    "plt.show()"
   ]
  },
  {
   "cell_type": "markdown",
   "id": "7ccbe162",
   "metadata": {},
   "source": [
    "## Shape optimization"
   ]
  },
  {
   "cell_type": "code",
   "execution_count": null,
   "id": "aebfb2ab",
   "metadata": {},
   "outputs": [],
   "source": [
    "# Define nonlinear constraint\n",
    "nlc = opt.NonlinearConstraint(computeConstraint, 0, 0)\n",
    "# Define bounds\n",
    "low = coefs[interiormask]\n",
    "upp = coefs[interiormask]\n",
    "L = np.max(low[:,0]) - np.min(low[:,0])\n",
    "W = np.max(upp[:,1]) - np.min(upp[:,1])\n",
    "\n",
    "low[:,0] = low[:,0] - 0.5*L\n",
    "low[:,1] = low[:,1] - 0.5*W\n",
    "low[:,2] = low[:,2] - 0.5*L\n",
    "\n",
    "upp[:,0] = upp[:,0] + 0.5*L\n",
    "upp[:,1] = upp[:,1] + 0.5*W\n",
    "upp[:,2] = upp[:,2] + 0.5*L\n",
    "low = low.flatten()\n",
    "upp = upp.flatten()\n",
    "\n",
    "bnd = opt.Bounds(low,upp,keep_feasible=False)"
   ]
  },
  {
   "cell_type": "code",
   "execution_count": null,
   "id": "e9bb428a",
   "metadata": {},
   "outputs": [],
   "source": [
    "# Set initial design\n",
    "u = coefs[interiormask]\n",
    "u[:,2] = -0.001*L*np.sin(u[:,0] * (np.pi) / L)*np.sin(u[:,1] * (np.pi) / L)\n",
    "u = u.flatten()\n",
    "\n",
    "print(computeObjective(u))"
   ]
  },
  {
   "cell_type": "code",
   "execution_count": null,
   "id": "1313483e",
   "metadata": {},
   "outputs": [],
   "source": [
    "# Shape optimization\n",
    "sol = opt.minimize(computeObjective, u,\n",
    "    method = 'trust-constr',\n",
    "    bounds=bnd,\n",
    "    constraints=nlc,\n",
    "    options={   'verbose':3,\n",
    "                'maxiter':5000,\n",
    "                'xtol':1e-7,\n",
    "                'gtol':1e-6,\n",
    "                'barrier_tol':1e-5,\n",
    "                })"
   ]
  },
  {
   "cell_type": "code",
   "execution_count": null,
   "id": "b833fc89",
   "metadata": {},
   "outputs": [],
   "source": [
    "# Plotting\n",
    "fig = plt.figure(figsize =(14, 9))\n",
    "ax11 = plt.subplot(221,projection ='3d')\n",
    "ax12 = plt.subplot(222)#,projection ='3d')\n",
    "ax21 = plt.subplot(223,projection ='3d')\n",
    "ax22 = plt.subplot(224)#,projection ='3d')\n",
    "\n",
    "plotGeometry(u,ax11)\n",
    "plotDeformation(u,ax12)\n",
    "\n",
    "plotGeometry(sol.x,ax21)\n",
    "plotDeformation(sol.x,ax22)\n",
    "\n",
    "ax11.set_title('Initial geometry')\n",
    "ax12.set_title('Initial deformation')\n",
    "ax21.set_title('Final geometry')\n",
    "ax22.set_title('Final deformation')\n",
    "\n",
    "plt.show()"
   ]
  },
  {
   "cell_type": "code",
   "execution_count": null,
   "id": "c2ade0ea",
   "metadata": {},
   "outputs": [],
   "source": [
    "fd = gs.io.gsFileData()\n",
    "final = makeGeometry(sol.x)\n",
    "fd.add(final)\n",
    "fd.save(\"final_symm\",False)"
   ]
  },
  {
   "cell_type": "code",
   "execution_count": null,
   "id": "8934bae3",
   "metadata": {},
   "outputs": [],
   "source": [
    "\n"
   ]
  },
  {
   "cell_type": "code",
   "execution_count": null,
   "id": "41cfc912",
   "metadata": {},
   "outputs": [],
   "source": []
  },
  {
   "cell_type": "code",
   "execution_count": null,
   "id": "362c71ef",
   "metadata": {},
   "outputs": [],
   "source": []
  }
 ],
 "metadata": {
  "kernelspec": {
   "display_name": "Python 3 (ipykernel)",
   "language": "python",
   "name": "python3"
  },
  "language_info": {
   "codemirror_mode": {
    "name": "ipython",
    "version": 3
   },
   "file_extension": ".py",
   "mimetype": "text/x-python",
   "name": "python",
   "nbconvert_exporter": "python",
   "pygments_lexer": "ipython3",
   "version": "3.8.10"
  }
 },
 "nbformat": 4,
 "nbformat_minor": 5
}
